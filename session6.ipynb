{
 "cells": [
  {
   "cell_type": "markdown",
   "id": "cf95c2a6",
   "metadata": {},
   "source": [
    "These are my imports so that I have all the libraries I need. "
   ]
  },
  {
   "cell_type": "code",
   "execution_count": 1,
   "id": "b6f26d12",
   "metadata": {},
   "outputs": [],
   "source": [
    "from astropy.table import Table\n",
    "import numpy as np\n",
    "from astropy.io import ascii"
   ]
  },
  {
   "cell_type": "markdown",
   "id": "6d22ceb4",
   "metadata": {},
   "source": [
    "The sine(x) function returns the value of the sine of the input using numpy."
   ]
  },
  {
   "cell_type": "code",
   "execution_count": 2,
   "id": "7e0612c8",
   "metadata": {},
   "outputs": [],
   "source": [
    "def sine(x):\n",
    "    return np.sin(x)"
   ]
  },
  {
   "cell_type": "markdown",
   "id": "8e58f42c",
   "metadata": {},
   "source": [
    "The cosine(x) function returns the value of the cosine of the input using numpy."
   ]
  },
  {
   "cell_type": "code",
   "execution_count": 3,
   "id": "efaefee6",
   "metadata": {},
   "outputs": [],
   "source": [
    "def cosine(x):\n",
    "    return np.cos(x)"
   ]
  },
  {
   "cell_type": "markdown",
   "id": "4b81f3ab",
   "metadata": {},
   "source": [
    "First we define x to be 1000 evenly spaced number between 0 and 2. Then we define our data to be a table with the values x, sine(x), and cosine(x) for each of the values of x. Then finally we write that data to a file."
   ]
  },
  {
   "cell_type": "code",
   "execution_count": 4,
   "id": "a2ad7563",
   "metadata": {},
   "outputs": [],
   "source": [
    "x = np.linspace(0, 2, 1000)\n",
    "data = Table([x,sine(x),cosine(x)], names= ['x' , 'sine', 'cosine'])\n",
    "ascii.write(data, 'values.dat')"
   ]
  },
  {
   "cell_type": "markdown",
   "id": "ad8db1b3",
   "metadata": {},
   "source": [
    "In this for loop we iterate over the first 10 indexes of x and use that to print out x, sine(x), and cosine(x). "
   ]
  },
  {
   "cell_type": "code",
   "execution_count": 5,
   "id": "ff6c6f2d",
   "metadata": {},
   "outputs": [
    {
     "name": "stdout",
     "output_type": "stream",
     "text": [
      "0.0 \t 0.0 \t 1.0\n",
      "0.002002002002002002 \t 0.0020020006646609234 \t 0.9999979959946613\n",
      "0.004004004004004004 \t 0.004003993305281807 \t 0.9999919839866774\n",
      "0.006006006006006006 \t 0.0060059698978547705 \t 0.9999819640001444\n",
      "0.008008008008008008 \t 0.008007922418436255 \t 0.9999679360752225\n",
      "0.01001001001001001 \t 0.010009842843179184 \t 0.9999499002681359\n",
      "0.012012012012012012 \t 0.012011723148365119 \t 0.9999278566511721\n",
      "0.014014014014014014 \t 0.014013555310436422 \t 0.9999018053126824\n",
      "0.016016016016016016 \t 0.016015331306028415 \t 0.9998717463570806\n",
      "0.018018018018018018 \t 0.01801704311200153 \t 0.9998376799048435\n"
     ]
    }
   ],
   "source": [
    "for n in range(10):\n",
    "    print(x[n], '\\t', sine(x[n]), '\\t', cosine(x[n]))"
   ]
  }
 ],
 "metadata": {
  "kernelspec": {
   "display_name": "Python 3 (ipykernel)",
   "language": "python",
   "name": "python3"
  },
  "language_info": {
   "codemirror_mode": {
    "name": "ipython",
    "version": 3
   },
   "file_extension": ".py",
   "mimetype": "text/x-python",
   "name": "python",
   "nbconvert_exporter": "python",
   "pygments_lexer": "ipython3",
   "version": "3.10.4"
  }
 },
 "nbformat": 4,
 "nbformat_minor": 5
}
